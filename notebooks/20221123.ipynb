{
 "cells": [
  {
   "cell_type": "code",
   "execution_count": 4,
   "metadata": {},
   "outputs": [
    {
     "name": "stdout",
     "output_type": "stream",
     "text": [
      "['deflection_spec forward', 'z-axis sensor_spec forward', 'deflection_spec backward', 'z-axis sensor_spec backward', 'tip-sample separation_indentationzsensorfwd0', 'tip-sample separation_indentationzsensorbwd0', 'deflection_indentationdeflfwd0', 'deflection_indentationdeflbwd0', 'namez4_slopeout00', 'namez5_slopeout10', 'namez6_slopeout20', 'namez7_maxadhesionout00', 'namez8_maxadhesionout10', 'namez9_slopeout01', 'namez10_slopeout11', 'namez11_slopeout21', 'namez12_snapinout00', 'namez13_snapinout10', 'deflection_scan forward', 'z-axis_scan forward', 'z-axis sensor_scan forward', 'deflection_scan backward', 'z-axis_scan backward', 'z-axis sensor_scan backward']\n",
      "['DataSet', 'DataSet-Info', 'DataSet\\\\DataSetInfos', 'DataSet\\\\DataSetInfos\\\\Spec', 'DataSet\\\\DataSetInfos\\\\Scan', 'DataSet\\\\DataSetInfos\\\\Feedback', 'DataSet\\\\DataSetInfos\\\\Module', 'DataSet\\\\DataSetInfos\\\\Global', 'DataSet\\\\Calibration', 'DataSet\\\\Calibration\\\\Scanhead', 'DataSet\\\\Calibration\\\\Cantilever', 'DataSet\\\\Parameters', 'DataSet\\\\Parameters\\\\Approach', 'DataSet\\\\Parameters\\\\ZFeedback', 'DataSet\\\\Parameters\\\\Lithography', 'DataSet\\\\Parameters\\\\Imaging', 'DataSet\\\\Parameters\\\\SignalIO', 'DataSet\\\\Parameters\\\\Spectroscopy', 'DataSet\\\\Parameters\\\\SPMSystem', 'DataSet\\\\Parameters\\\\Stage', 'DataSet\\\\SpecInfos', 'DataSet\\\\SpecInfos\\\\SpecHeader', 'DataSet\\\\SpecInfos\\\\SpecPosTable', 'DataSet-0:0', 'DataSet-0:7', 'DataSet-1:0', 'DataSet-1:7', 'DataSet-2:0', 'DataSet-3:0', 'DataSet-4:0', 'DataSet-5:0', 'DataSet-6:0', 'DataSet-7:0', 'DataSet-8:0', 'DataSet-9:0', 'DataSet-10:0', 'DataSet-11:0', 'DataSet-12:0', 'DataSet-13:0', 'DataSet-14:0', 'DataSet-15:0', 'DataSet-16:0', 'DataSet-16:1', 'DataSet-16:7', 'DataSet-17:0', 'DataSet-17:1', 'DataSet-17:7', 'SetView', 'SetView-View0', 'SetView-View1', 'SetView-View2', 'SetView-View3', 'SetView-View4', 'SetView-View5', 'ProcessorSet', 'ProcessorSet-{138707ED-FD93-4E28-B2B0-C5DA628CB815}:0', 'ProcessorSet-{AB0B4062-81AF-464B-A7F7-75B11891ACF8}:0', 'ProcessorSet-{AB0B4062-81AF-464B-A7F7-75B11891ACF8}:1', 'ProcessorSet-{1220F4A8-053A-494D-B28C-3635059D1530}:0', 'ProcessorSet-{1220F4A8-053A-494D-B28C-3635059D1530}:1']\n"
     ]
    },
    {
     "data": {
      "text/plain": [
       "Text(0, 0.5, 'Deflection (nm)')"
      ]
     },
     "execution_count": 4,
     "metadata": {},
     "output_type": "execute_result"
    },
    {
     "data": {
      "image/png": "[encoded data removed]",
      "text/plain": [
       "<Figure size 504x360 with 1 Axes>"
      ]
     },
     "metadata": {
      "needs_background": "light"
     },
     "output_type": "display_data"
    }
   ],
   "source": [
    "#%%\n",
    "from pathlib import Path\n",
    "import mmap\n",
    "from configparser import ConfigParser, SectionProxy\n",
    "import re\n",
    "\n",
    "import numpy as np\n",
    "\n",
    "\n",
    "def get_dataset_sections(config: ConfigParser):\n",
    "    section_regex = re.compile(\"DataSet-\\d+:\\d+\")\n",
    "    return filter(\n",
    "        lambda name: re.match(section_regex, name) is not None, config.sections()\n",
    "    )\n",
    "\n",
    "\n",
    "def get_dtype(config: ConfigParser, name: str) -> np.dtype:\n",
    "    section = config[name]\n",
    "    assert (\n",
    "        section[\"SaveMode\"] == \"Binary\"\n",
    "    ), \"Reading non-binary data format is not supported!\"\n",
    "    endian = \"<\" if section[\"SaveOrder\"] == \"Intel\" else \">\"\n",
    "    data_format = \"i\" if section[\"SaveSign\"] == \"Signed\" else \"u\"\n",
    "    num_bytes = int(section[\"SaveBits\"]) // 8\n",
    "    return np.dtype(f\"{endian}{data_format}{num_bytes}\")\n",
    "\n",
    "\n",
    "def get_read_shape(config: ConfigParser, name: str) -> tuple[int, int]:\n",
    "    section = config[name]\n",
    "    dim0, dim1 = section[\"Points\"], section[\"Lines\"]\n",
    "    return (int(dim0), int(dim1))\n",
    "\n",
    "\n",
    "def get_scale_params(config: ConfigParser, name: str) -> tuple[float, float]:\n",
    "    section = config[name]\n",
    "    range_, offset = section[\"Dim2Range\"], section[\"Dim2Min\"]\n",
    "    return float(range_), float(offset)\n",
    "\n",
    "\n",
    "def get_read_length(shape: tuple[int, int], dtype: np.dtype) -> int:\n",
    "    return shape[0] * shape[1] * dtype.itemsize\n",
    "\n",
    "\n",
    "def scale_data(data: np.ndarray, datarange: float, dataoffset: float) -> np.ndarray:\n",
    "    min_val = np.iinfo(data.dtype).min\n",
    "    normalized_data = 1.0 + data / np.abs(min_val)\n",
    "    return normalized_data * datarange + dataoffset\n",
    "\n",
    "\n",
    "def get_data_name(config: ConfigParser, name: str) -> str:\n",
    "    section = config[name]\n",
    "    name, frame = section[\"Dim2Name\"], section[\"Frame\"]\n",
    "    return f\"{name.lower()}_{frame.lower()}\"\n",
    "\n",
    "\n",
    "def read_nid(filepath: str | Path):\n",
    "    config_parser = ConfigParser(allow_no_value=True)\n",
    "    with open(filepath, \"rb\") as file:\n",
    "        with mmap.mmap(file.fileno(), length=0, access=mmap.ACCESS_READ) as memorymap:\n",
    "            data_start_ind = memorymap.find(b\"#!\")\n",
    "            header = memorymap[:data_start_ind].decode()\n",
    "            config_list = header.split(\"\\r\\n\")\n",
    "            config_parser.read_file(config_list)\n",
    "\n",
    "            shapes = [\n",
    "                get_read_shape(config_parser, name)\n",
    "                for name in get_dataset_sections(config_parser)\n",
    "            ]\n",
    "            dtypes = [\n",
    "                get_dtype(config_parser, name)\n",
    "                for name in get_dataset_sections(config_parser)\n",
    "            ]\n",
    "            read_lengths = [get_read_length(s, d) for s, d in zip(shapes, dtypes)]\n",
    "\n",
    "            memorymap.seek(data_start_ind + 2)\n",
    "            raw_data = [\n",
    "                np.frombuffer(memorymap.read(n), d)\n",
    "                for n, d in zip(read_lengths, dtypes)\n",
    "            ]\n",
    "            scale_params = [\n",
    "                get_scale_params(config_parser, name)\n",
    "                for name in get_dataset_sections(config_parser)\n",
    "            ]\n",
    "            data = [\n",
    "                scale_data(raw, *p).reshape(s)\n",
    "                for raw, p, s in zip(raw_data, scale_params, shapes)\n",
    "            ]\n",
    "            names = [\n",
    "                get_data_name(config_parser, name)\n",
    "                for name in get_dataset_sections(config_parser)\n",
    "            ]\n",
    "\n",
    "    return config_parser, dict(zip(names, data))\n",
    "\n",
    "\n",
    "#%%\n",
    "file = \"./Image00434.nid\"\n",
    "config, data = read_nid(file)\n",
    "print(list(data.keys()))\n",
    "print(list(config.sections()))\n",
    "#%%\n",
    "import matplotlib\n",
    "import matplotlib.pyplot as plt\n",
    "\n",
    "matplotlib.rc(\"font\", size=12)\n",
    "matplotlib.rc(\"axes\", grid=True)\n",
    "matplotlib.rc(\"axes.spines\", top=False, right=False)\n",
    "matplotlib.rc(\"grid\", linestyle=\"--\", color=\"lightgray\")\n",
    "\n",
    "\n",
    "fig, ax = plt.subplots(1, 1, figsize=(7, 5), sharex=True)\n",
    "for mode in (\"forward\", \"backward\"):\n",
    "    ax.plot(\n",
    "        data[f\"z-axis sensor_spec {mode}\"],\n",
    "        data[f\"deflection_spec {mode}\"],\n",
    "        \".\",\n",
    "        markersize=2,\n",
    "        label=mode,\n",
    "    )\n",
    "ax.legend()\n",
    "ax.set_xlabel(\"Z axis (nm)\")\n",
    "ax.set_ylabel(\"Deflection (nm)\")"
   ]
  },
  {
   "cell_type": "code",
   "execution_count": null,
   "metadata": {},
   "outputs": [],
   "source": []
  }
 ],
 "metadata": {
  "kernelspec": {
   "display_name": "neuralode",
   "language": "python",
   "name": "python3"
  },
  "language_info": {
   "codemirror_mode": {
    "name": "ipython",
    "version": 3
   },
   "file_extension": ".py",
   "mimetype": "text/x-python",
   "name": "python",
   "nbconvert_exporter": "python",
   "pygments_lexer": "ipython3",
   "version": "3.10.8"
  },
  "orig_nbformat": 4,
  "vscode": {
   "interpreter": {
    "hash": "88678b90d59f09c65dc707fc411244a082707a8198f8938b52c1bd19fab74601"
   }
  }
 },
 "nbformat": 4,
 "nbformat_minor": 2
}
